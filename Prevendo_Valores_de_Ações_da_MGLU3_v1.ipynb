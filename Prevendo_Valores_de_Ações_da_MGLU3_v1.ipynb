{
  "nbformat": 4,
  "nbformat_minor": 0,
  "metadata": {
    "kernelspec": {
      "display_name": "Python 3",
      "language": "python",
      "name": "python3"
    },
    "language_info": {
      "codemirror_mode": {
        "name": "ipython",
        "version": 3
      },
      "file_extension": ".py",
      "mimetype": "text/x-python",
      "name": "python",
      "nbconvert_exporter": "python",
      "pygments_lexer": "ipython3",
      "version": "3.7.6"
    },
    "colab": {
      "name": "Prevendo Valores de Ações da  MGLU3_v1",
      "provenance": [],
      "collapsed_sections": [
        "V1DRckdNsyJz",
        "7zAEG5oPsyKZ",
        "BZGOtMKnsyLS",
        "4lRP_L_OsyLd"
      ],
      "include_colab_link": true
    }
  },
  "cells": [
    {
      "cell_type": "markdown",
      "metadata": {
        "id": "view-in-github",
        "colab_type": "text"
      },
      "source": [
        "<a href=\"https://colab.research.google.com/github/luccidomingues/MGLU_StockPicking/blob/main/Prevendo_Valores_de_A%C3%A7%C3%B5es_da_MGLU3_v1.ipynb\" target=\"_parent\"><img src=\"https://colab.research.google.com/assets/colab-badge.svg\" alt=\"Open In Colab\"/></a>"
      ]
    },
    {
      "cell_type": "markdown",
      "metadata": {
        "id": "hAH_rUHzsyIk"
      },
      "source": [
        "# Prevendo Valores de Ações da Magalu (MGLU3)\n",
        "---\n",
        "\n",
        "\n",
        "Todos os dias, profissionais e entusiastas movimentam bilhões de reais, dólares, libras etc. em todo mundo nas mais variadas bolsas de valores.\n",
        "\n",
        "Uma **bolsa de valores** é uma espécie mercado onde compradores e vendedores compram e vendem **titulos de ações** de empresas, tornando seu comprador como **acionista** daquela empresa.\n",
        "\n",
        "Essas ações **flutuam** durante o dia e podem fechar o dia valendo mais ou menos do que no seu inicio.\n",
        "\n",
        "As maiores empresas do mundo estão em alguma bolsa, seja Facebook, Apple, Microsoft, ou até mesmo no Brasil, Magazine Luiza, Petrobras etc.\n",
        "\n",
        "![stock](https://cdn.liteforex.com/cache/images/articles-preview-seo-named-images/forex-price-action-strategy.jpg?q=75&amp;w=1000&amp;s=22fcdd0dde01381dc24043b5c6390e4f)\n",
        "\n",
        "## Sobre o projeto\n",
        "\n",
        "Nosso intuito é criar um **modelo** de **Machine Learning** capaz de **predizer** o valor de **fechamento** de uma ação.\n",
        "\n",
        "Aqui utilizaremos **Regressão**, ou seja, nossa saida será um valor continuo predito pelo modelo."
      ]
    },
    {
      "cell_type": "markdown",
      "metadata": {
        "id": "SWSYrWqUsyIm"
      },
      "source": [
        "## Checklist \n",
        "1. Definição do Problema\n",
        "2. Obtenção dos Dados\n",
        "3. Correlações de Features e Classe\n",
        "4. Machine Learning\n",
        "5. Validação\n",
        "6. Testando alterações no modelo"
      ]
    },
    {
      "cell_type": "markdown",
      "metadata": {
        "id": "pvS2C1NasyIp"
      },
      "source": [
        "# 1. Definição do Problema\n",
        "\n",
        "Por as ações moverem tanto valor diariamente, é mais que normal métodos serem desenvolvidos e utilizados para tentar prever o **valor final da ação naquela dia**, pois para alguém ganhar dinheiro, outros têm que perder, então é natural que táticas e estudos sejam criados para tentar prever com a maior precisão possivel o valor final da ação para comprar ou vender as ações.\n",
        "\n",
        "Vamos explicar melhor. Pense que José é investidor e comprou uma 10 ações da Data Company e cada uma dessas ações valiam 10 reais naquele momentos.\n",
        "\n",
        "Ao final do dia, se as ações **valorizaram** 2 reais cada, ele terá 120 reais e não mais os 100 iniciais, ou seja, se ele vender a ação ao final do dia ele ganhou 20 reais.\n",
        "\n",
        "Por outro lado, se as ações **desvalorizaram** 2 reais cada, ao final do dia cada ação vale 8 reais, então as 10 ações vão estar valendo 80 reais, não mais 100 e José perdeu dinheiro.\n",
        "\n",
        "Hoje, utilizaremos dados da **Petrobras**, empresa estatal brasileira, de economia mista, ou seja, seu capital é composto por recursos públicos e privados e que, segundo a [Uol](https://economia.uol.com.br/noticias/redacao/2019/06/03/novo-estudo-aponta-bradesco-como-a-marca-mais-valiosa-do-brasil.htm) era a oitava maior empresa do Brasil com capital de 2.002 bilhões de dólares em 2019. \n",
        "\n",
        "Suas **principais atividades** são exploração, produção, refino, comercialização e transporte de petróleo e gás natural, petroquímica, distribuição de derivados, energia elétrica, bicombustíveis. Também atua com outras fontes de energia renováveis.\n",
        "\n",
        "Nossos dados vão de 2010 a 2017.\n",
        "\n",
        "Em nosso modelo as features são:\n",
        "\n",
        "`Date`: Dia dos dados da ação\n",
        "\n",
        "`Open`: Preço de abertura da ação naquele dia\n",
        "\n",
        "`High`: Valor máximo alcançado naquele dia\n",
        "\n",
        "`Low`: Valor mínimo alcançado naquele dia\n",
        "\n",
        "`Close`: Fechamento da ação naquele dia\n",
        "\n",
        "`Volume`: Número de ações negociadas\n",
        "\n",
        "\n",
        "\n",
        "\n",
        "Além disso criaremos a feature `Variation` para analisar durante aquele dia qual foi a variação dos dados entre fechamento e abertura. "
      ]
    },
    {
      "cell_type": "markdown",
      "metadata": {
        "id": "q0AmtI4gsyIq"
      },
      "source": [
        "# 2. Obtenção dos Dados"
      ]
    },
    {
      "cell_type": "markdown",
      "metadata": {
        "id": "o7jemIH_syIr"
      },
      "source": [
        "**Importações**"
      ]
    },
    {
      "cell_type": "code",
      "metadata": {
        "id": "hTUrDNkOsyIt"
      },
      "source": [
        "import pandas as pd\n",
        "from sklearn.linear_model import LinearRegression\n",
        "from sklearn.model_selection import train_test_split\n",
        "from sklearn.metrics import mean_squared_error\n",
        "import matplotlib.pyplot as plt\n",
        "\n",
        "\n",
        "\n",
        "\n",
        "# import plotly.graph_objs as go\n",
        "# import plotly.offline as py\n",
        "# import plotly\n",
        "# plotly.offline.init_notebook_mode()\n",
        "# # plotly para plotar gráficos financeiros\n",
        "# import datetime"
      ],
      "execution_count": null,
      "outputs": []
    },
    {
      "cell_type": "markdown",
      "metadata": {
        "id": "E-MJX2xrsyI5"
      },
      "source": [
        "**Carregando e lendo os dados**"
      ]
    },
    {
      "cell_type": "code",
      "metadata": {
        "id": "gyeH-U8ZsyI6",
        "outputId": "6dea39a1-3870-493f-949a-9f87d18176d6",
        "colab": {
          "base_uri": "https://localhost:8080/",
          "height": 204
        }
      },
      "source": [
        "mglu = pd.read_csv('MGLU3.csv')\n",
        "mglu.head()"
      ],
      "execution_count": null,
      "outputs": [
        {
          "output_type": "execute_result",
          "data": {
            "text/html": [
              "<div>\n",
              "<style scoped>\n",
              "    .dataframe tbody tr th:only-of-type {\n",
              "        vertical-align: middle;\n",
              "    }\n",
              "\n",
              "    .dataframe tbody tr th {\n",
              "        vertical-align: top;\n",
              "    }\n",
              "\n",
              "    .dataframe thead th {\n",
              "        text-align: right;\n",
              "    }\n",
              "</style>\n",
              "<table border=\"1\" class=\"dataframe\">\n",
              "  <thead>\n",
              "    <tr style=\"text-align: right;\">\n",
              "      <th></th>\n",
              "      <th>Date</th>\n",
              "      <th>Open</th>\n",
              "      <th>High</th>\n",
              "      <th>Low</th>\n",
              "      <th>Close</th>\n",
              "      <th>Adj Close</th>\n",
              "      <th>Volume</th>\n",
              "    </tr>\n",
              "  </thead>\n",
              "  <tbody>\n",
              "    <tr>\n",
              "      <th>0</th>\n",
              "      <td>2019-10-22</td>\n",
              "      <td>10.7975</td>\n",
              "      <td>10.9950</td>\n",
              "      <td>10.7925</td>\n",
              "      <td>10.9300</td>\n",
              "      <td>10.612300</td>\n",
              "      <td>23985600.0</td>\n",
              "    </tr>\n",
              "    <tr>\n",
              "      <th>1</th>\n",
              "      <td>2019-10-23</td>\n",
              "      <td>10.8975</td>\n",
              "      <td>10.9975</td>\n",
              "      <td>10.7300</td>\n",
              "      <td>10.8725</td>\n",
              "      <td>10.556471</td>\n",
              "      <td>32365600.0</td>\n",
              "    </tr>\n",
              "    <tr>\n",
              "      <th>2</th>\n",
              "      <td>2019-10-24</td>\n",
              "      <td>10.8725</td>\n",
              "      <td>10.9875</td>\n",
              "      <td>10.7900</td>\n",
              "      <td>10.8125</td>\n",
              "      <td>10.498215</td>\n",
              "      <td>23944400.0</td>\n",
              "    </tr>\n",
              "    <tr>\n",
              "      <th>3</th>\n",
              "      <td>2019-10-25</td>\n",
              "      <td>10.8450</td>\n",
              "      <td>10.8750</td>\n",
              "      <td>10.5000</td>\n",
              "      <td>10.5000</td>\n",
              "      <td>10.194798</td>\n",
              "      <td>32608400.0</td>\n",
              "    </tr>\n",
              "    <tr>\n",
              "      <th>4</th>\n",
              "      <td>2019-10-28</td>\n",
              "      <td>10.5500</td>\n",
              "      <td>10.7950</td>\n",
              "      <td>10.5125</td>\n",
              "      <td>10.6675</td>\n",
              "      <td>10.357429</td>\n",
              "      <td>42348000.0</td>\n",
              "    </tr>\n",
              "  </tbody>\n",
              "</table>\n",
              "</div>"
            ],
            "text/plain": [
              "         Date     Open     High      Low    Close  Adj Close      Volume\n",
              "0  2019-10-22  10.7975  10.9950  10.7925  10.9300  10.612300  23985600.0\n",
              "1  2019-10-23  10.8975  10.9975  10.7300  10.8725  10.556471  32365600.0\n",
              "2  2019-10-24  10.8725  10.9875  10.7900  10.8125  10.498215  23944400.0\n",
              "3  2019-10-25  10.8450  10.8750  10.5000  10.5000  10.194798  32608400.0\n",
              "4  2019-10-28  10.5500  10.7950  10.5125  10.6675  10.357429  42348000.0"
            ]
          },
          "metadata": {
            "tags": []
          },
          "execution_count": 2
        }
      ]
    },
    {
      "cell_type": "markdown",
      "metadata": {
        "id": "xTyZae38syJB"
      },
      "source": [
        "**Final do dataset**"
      ]
    },
    {
      "cell_type": "code",
      "metadata": {
        "id": "jWzfsj8XsyJC",
        "outputId": "1466aaf6-24b6-496d-b240-d3eadc5b9602",
        "colab": {
          "base_uri": "https://localhost:8080/",
          "height": 204
        }
      },
      "source": [
        "mglu.tail()"
      ],
      "execution_count": null,
      "outputs": [
        {
          "output_type": "execute_result",
          "data": {
            "text/html": [
              "<div>\n",
              "<style scoped>\n",
              "    .dataframe tbody tr th:only-of-type {\n",
              "        vertical-align: middle;\n",
              "    }\n",
              "\n",
              "    .dataframe tbody tr th {\n",
              "        vertical-align: top;\n",
              "    }\n",
              "\n",
              "    .dataframe thead th {\n",
              "        text-align: right;\n",
              "    }\n",
              "</style>\n",
              "<table border=\"1\" class=\"dataframe\">\n",
              "  <thead>\n",
              "    <tr style=\"text-align: right;\">\n",
              "      <th></th>\n",
              "      <th>Date</th>\n",
              "      <th>Open</th>\n",
              "      <th>High</th>\n",
              "      <th>Low</th>\n",
              "      <th>Close</th>\n",
              "      <th>Adj Close</th>\n",
              "      <th>Volume</th>\n",
              "    </tr>\n",
              "  </thead>\n",
              "  <tbody>\n",
              "    <tr>\n",
              "      <th>244</th>\n",
              "      <td>2020-10-16</td>\n",
              "      <td>25.760000</td>\n",
              "      <td>26.049999</td>\n",
              "      <td>25.160000</td>\n",
              "      <td>25.870001</td>\n",
              "      <td>25.870001</td>\n",
              "      <td>29939200.0</td>\n",
              "    </tr>\n",
              "    <tr>\n",
              "      <th>245</th>\n",
              "      <td>2020-10-19</td>\n",
              "      <td>26.110001</td>\n",
              "      <td>26.299999</td>\n",
              "      <td>25.350000</td>\n",
              "      <td>25.690001</td>\n",
              "      <td>25.690001</td>\n",
              "      <td>36433600.0</td>\n",
              "    </tr>\n",
              "    <tr>\n",
              "      <th>246</th>\n",
              "      <td>2020-10-20</td>\n",
              "      <td>25.799999</td>\n",
              "      <td>26.139999</td>\n",
              "      <td>25.650000</td>\n",
              "      <td>26.040001</td>\n",
              "      <td>26.040001</td>\n",
              "      <td>27788700.0</td>\n",
              "    </tr>\n",
              "    <tr>\n",
              "      <th>247</th>\n",
              "      <td>2020-10-21</td>\n",
              "      <td>26.000000</td>\n",
              "      <td>26.799999</td>\n",
              "      <td>25.959999</td>\n",
              "      <td>26.219999</td>\n",
              "      <td>26.219999</td>\n",
              "      <td>35433800.0</td>\n",
              "    </tr>\n",
              "    <tr>\n",
              "      <th>248</th>\n",
              "      <td>2020-10-22</td>\n",
              "      <td>26.350000</td>\n",
              "      <td>26.400000</td>\n",
              "      <td>26.000000</td>\n",
              "      <td>26.100000</td>\n",
              "      <td>26.100000</td>\n",
              "      <td>22661500.0</td>\n",
              "    </tr>\n",
              "  </tbody>\n",
              "</table>\n",
              "</div>"
            ],
            "text/plain": [
              "           Date       Open       High  ...      Close  Adj Close      Volume\n",
              "244  2020-10-16  25.760000  26.049999  ...  25.870001  25.870001  29939200.0\n",
              "245  2020-10-19  26.110001  26.299999  ...  25.690001  25.690001  36433600.0\n",
              "246  2020-10-20  25.799999  26.139999  ...  26.040001  26.040001  27788700.0\n",
              "247  2020-10-21  26.000000  26.799999  ...  26.219999  26.219999  35433800.0\n",
              "248  2020-10-22  26.350000  26.400000  ...  26.100000  26.100000  22661500.0\n",
              "\n",
              "[5 rows x 7 columns]"
            ]
          },
          "metadata": {
            "tags": []
          },
          "execution_count": 3
        }
      ]
    },
    {
      "cell_type": "markdown",
      "metadata": {
        "id": "7_xobea6syJI"
      },
      "source": [
        "**Vamos visualizar algumas informações**\n",
        "\n",
        "Todas as colunas de 1802 linhas e todas, com exceção da `Date` estão em formatos numéricos.\n",
        "\n",
        "A primeira coisa a fazer é transformar `Date` em formato *datetime*."
      ]
    },
    {
      "cell_type": "code",
      "metadata": {
        "id": "mF6bB_ZcsyJI",
        "outputId": "6a538a18-f56c-4bb0-f5e0-f3076040ecbb",
        "colab": {
          "base_uri": "https://localhost:8080/",
          "height": 255
        }
      },
      "source": [
        "mglu.info()"
      ],
      "execution_count": null,
      "outputs": [
        {
          "output_type": "stream",
          "text": [
            "<class 'pandas.core.frame.DataFrame'>\n",
            "RangeIndex: 249 entries, 0 to 248\n",
            "Data columns (total 7 columns):\n",
            " #   Column     Non-Null Count  Dtype  \n",
            "---  ------     --------------  -----  \n",
            " 0   Date       249 non-null    object \n",
            " 1   Open       248 non-null    float64\n",
            " 2   High       248 non-null    float64\n",
            " 3   Low        248 non-null    float64\n",
            " 4   Close      248 non-null    float64\n",
            " 5   Adj Close  248 non-null    float64\n",
            " 6   Volume     248 non-null    float64\n",
            "dtypes: float64(6), object(1)\n",
            "memory usage: 13.7+ KB\n"
          ],
          "name": "stdout"
        }
      ]
    },
    {
      "cell_type": "markdown",
      "metadata": {
        "id": "GtnDCTy3syJP"
      },
      "source": [
        "**Transformando a coluna `'Date'` de *object* para *datetime***"
      ]
    },
    {
      "cell_type": "code",
      "metadata": {
        "id": "Ue-8zRM_syJR",
        "outputId": "c22f2f51-2aeb-4d87-be41-c22bddaf8ba3",
        "colab": {
          "base_uri": "https://localhost:8080/",
          "height": 255
        }
      },
      "source": [
        "# transformando\n",
        "mglu['Date'] = pd.to_datetime(mglu['Date'])\n",
        "# visualizando se realmente foi transformada\n",
        "mglu.info()"
      ],
      "execution_count": null,
      "outputs": [
        {
          "output_type": "stream",
          "text": [
            "<class 'pandas.core.frame.DataFrame'>\n",
            "RangeIndex: 249 entries, 0 to 248\n",
            "Data columns (total 7 columns):\n",
            " #   Column     Non-Null Count  Dtype         \n",
            "---  ------     --------------  -----         \n",
            " 0   Date       249 non-null    datetime64[ns]\n",
            " 1   Open       248 non-null    float64       \n",
            " 2   High       248 non-null    float64       \n",
            " 3   Low        248 non-null    float64       \n",
            " 4   Close      248 non-null    float64       \n",
            " 5   Adj Close  248 non-null    float64       \n",
            " 6   Volume     248 non-null    float64       \n",
            "dtypes: datetime64[ns](1), float64(6)\n",
            "memory usage: 13.7 KB\n"
          ],
          "name": "stdout"
        }
      ]
    },
    {
      "cell_type": "markdown",
      "metadata": {
        "id": "H8J6cEP5syJX"
      },
      "source": [
        "**Criando coluna `Variation` entre abertura e fechamento**\n",
        "\n",
        "Veja as variações como flutuam, enquanto os dados *0* e *4* têm quedas bruscas, o dado *3* tem uma pequena queda e os dados *1* e *2* sobem, mas muito pouco."
      ]
    },
    {
      "cell_type": "code",
      "metadata": {
        "id": "3jQ75e0_syJY",
        "outputId": "a733cfe0-2b2b-4349-ffe6-5a25d5c743b8",
        "colab": {
          "base_uri": "https://localhost:8080/",
          "height": 204
        }
      },
      "source": [
        "mglu['Variation'] = mglu['Close'].sub(mglu['Open'])\n",
        "mglu.head()"
      ],
      "execution_count": null,
      "outputs": [
        {
          "output_type": "execute_result",
          "data": {
            "text/html": [
              "<div>\n",
              "<style scoped>\n",
              "    .dataframe tbody tr th:only-of-type {\n",
              "        vertical-align: middle;\n",
              "    }\n",
              "\n",
              "    .dataframe tbody tr th {\n",
              "        vertical-align: top;\n",
              "    }\n",
              "\n",
              "    .dataframe thead th {\n",
              "        text-align: right;\n",
              "    }\n",
              "</style>\n",
              "<table border=\"1\" class=\"dataframe\">\n",
              "  <thead>\n",
              "    <tr style=\"text-align: right;\">\n",
              "      <th></th>\n",
              "      <th>Date</th>\n",
              "      <th>Open</th>\n",
              "      <th>High</th>\n",
              "      <th>Low</th>\n",
              "      <th>Close</th>\n",
              "      <th>Adj Close</th>\n",
              "      <th>Volume</th>\n",
              "      <th>Variation</th>\n",
              "    </tr>\n",
              "  </thead>\n",
              "  <tbody>\n",
              "    <tr>\n",
              "      <th>0</th>\n",
              "      <td>2019-10-22</td>\n",
              "      <td>10.7975</td>\n",
              "      <td>10.9950</td>\n",
              "      <td>10.7925</td>\n",
              "      <td>10.9300</td>\n",
              "      <td>10.612300</td>\n",
              "      <td>23985600.0</td>\n",
              "      <td>0.1325</td>\n",
              "    </tr>\n",
              "    <tr>\n",
              "      <th>1</th>\n",
              "      <td>2019-10-23</td>\n",
              "      <td>10.8975</td>\n",
              "      <td>10.9975</td>\n",
              "      <td>10.7300</td>\n",
              "      <td>10.8725</td>\n",
              "      <td>10.556471</td>\n",
              "      <td>32365600.0</td>\n",
              "      <td>-0.0250</td>\n",
              "    </tr>\n",
              "    <tr>\n",
              "      <th>2</th>\n",
              "      <td>2019-10-24</td>\n",
              "      <td>10.8725</td>\n",
              "      <td>10.9875</td>\n",
              "      <td>10.7900</td>\n",
              "      <td>10.8125</td>\n",
              "      <td>10.498215</td>\n",
              "      <td>23944400.0</td>\n",
              "      <td>-0.0600</td>\n",
              "    </tr>\n",
              "    <tr>\n",
              "      <th>3</th>\n",
              "      <td>2019-10-25</td>\n",
              "      <td>10.8450</td>\n",
              "      <td>10.8750</td>\n",
              "      <td>10.5000</td>\n",
              "      <td>10.5000</td>\n",
              "      <td>10.194798</td>\n",
              "      <td>32608400.0</td>\n",
              "      <td>-0.3450</td>\n",
              "    </tr>\n",
              "    <tr>\n",
              "      <th>4</th>\n",
              "      <td>2019-10-28</td>\n",
              "      <td>10.5500</td>\n",
              "      <td>10.7950</td>\n",
              "      <td>10.5125</td>\n",
              "      <td>10.6675</td>\n",
              "      <td>10.357429</td>\n",
              "      <td>42348000.0</td>\n",
              "      <td>0.1175</td>\n",
              "    </tr>\n",
              "  </tbody>\n",
              "</table>\n",
              "</div>"
            ],
            "text/plain": [
              "        Date     Open     High  ...  Adj Close      Volume  Variation\n",
              "0 2019-10-22  10.7975  10.9950  ...  10.612300  23985600.0     0.1325\n",
              "1 2019-10-23  10.8975  10.9975  ...  10.556471  32365600.0    -0.0250\n",
              "2 2019-10-24  10.8725  10.9875  ...  10.498215  23944400.0    -0.0600\n",
              "3 2019-10-25  10.8450  10.8750  ...  10.194798  32608400.0    -0.3450\n",
              "4 2019-10-28  10.5500  10.7950  ...  10.357429  42348000.0     0.1175\n",
              "\n",
              "[5 rows x 8 columns]"
            ]
          },
          "metadata": {
            "tags": []
          },
          "execution_count": 6
        }
      ]
    },
    {
      "cell_type": "markdown",
      "metadata": {
        "id": "_U108ZYIsyJc"
      },
      "source": [
        "**Plotando os preços de Outubro de 2019 até Outubro de 2020**\n",
        "\n",
        "Já conseguimos ver que, embora os dados tenham o movimento comum de ter picos e vales, ou seja, subidas e descidas, no geral, com o passar dos anos os dados da petrobras vêm caindo, ou seja, a empresa vem desvalorizando. \n",
        "\n",
        "Muito disso tem a ver com os esquema de propinas e corrupção que \"estorou\" na midia nos últimos anos e ainda vêm repercutindo."
      ]
    },
    {
      "cell_type": "code",
      "metadata": {
        "id": "Kq5NRQBKsyJc",
        "outputId": "3af2d370-b4d2-40fe-f701-29bcd5aa79f7",
        "colab": {
          "base_uri": "https://localhost:8080/",
          "height": 296
        }
      },
      "source": [
        "# x1 = mglu.Date\n",
        "# y1 = mglu.Close\n",
        "# data = [go.Scatter(x=x1, y=y1)] # dispersão ao longo do tempo\n",
        "# layout = go.Layout(\n",
        "#     xaxis=dict(\n",
        "#         range=['22-10-2019','22-10-2020'], # faixa de data\n",
        "#         title='Ano'              \n",
        "#     ),\n",
        "#     yaxis=dict(\n",
        "#         range=[min(x1), max(y1)], # abertura e fechamento das datas\n",
        "#         title='Valor da Acao'\n",
        "#     ))\n",
        "# fig = go.Figure(data = data, layout = layout) # objeto figura com data e layout\n",
        "# py.iplot(fig)\n",
        "\n",
        "plt.plot(mglu['Date'],mglu['Close'])\n",
        "plt.ylabel('Valor da Ação')\n",
        "plt.xlabel('Data')"
      ],
      "execution_count": null,
      "outputs": [
        {
          "output_type": "execute_result",
          "data": {
            "text/plain": [
              "Text(0.5, 0, 'Data')"
            ]
          },
          "metadata": {
            "tags": []
          },
          "execution_count": 7
        },
        {
          "output_type": "display_data",
          "data": {
            "image/png": "[encoded data removed]",
            "text/plain": [
              "<Figure size 432x288 with 1 Axes>"
            ]
          },
          "metadata": {
            "tags": [],
            "needs_background": "light"
          }
        }
      ]
    },
    {
      "cell_type": "code",
      "metadata": {
        "id": "WA5SH41fODMD",
        "outputId": "9627bfb4-7d7f-48a1-f042-37182d8dfefb",
        "colab": {
          "base_uri": "https://localhost:8080/",
          "height": 296
        }
      },
      "source": [
        "import numpy as np\n",
        "\n",
        "\n",
        "media_acoes = np.mean(mglu['Close'])\n",
        "\n",
        "dt_acoes = mglu['Date'][1]-mglu['Date'][0]\n",
        "\n",
        "plt.plot(mglu['Date'],mglu['Close'])\n",
        "plt.plot(mglu.iloc[-1,0]+dt_acoes,media_acoes, '*')\n",
        "plt.ylabel(\"Valor das Ações\")\n",
        "plt.xlabel(\"Data\")\n",
        "\n"
      ],
      "execution_count": null,
      "outputs": [
        {
          "output_type": "execute_result",
          "data": {
            "text/plain": [
              "Text(0.5, 0, 'Data')"
            ]
          },
          "metadata": {
            "tags": []
          },
          "execution_count": 8
        },
        {
          "output_type": "display_data",
          "data": {
            "image/png": "[encoded data removed]",
            "text/plain": [
              "<Figure size 432x288 with 1 Axes>"
            ]
          },
          "metadata": {
            "tags": [],
            "needs_background": "light"
          }
        }
      ]
    },
    {
      "cell_type": "code",
      "metadata": {
        "id": "8nJB3pSDPEiW",
        "outputId": "2dcf69da-1344-4460-d7dc-31125b1ed431",
        "colab": {
          "base_uri": "https://localhost:8080/",
          "height": 34
        }
      },
      "source": [
        "mglu.shape"
      ],
      "execution_count": null,
      "outputs": [
        {
          "output_type": "execute_result",
          "data": {
            "text/plain": [
              "(249, 8)"
            ]
          },
          "metadata": {
            "tags": []
          },
          "execution_count": 9
        }
      ]
    },
    {
      "cell_type": "code",
      "metadata": {
        "id": "Ed6Btq5iQPFK"
      },
      "source": [
        "media_tres_pontos = np.mean(mglu['Close'][246:248])"
      ],
      "execution_count": null,
      "outputs": []
    },
    {
      "cell_type": "code",
      "metadata": {
        "id": "SWdjClVhQFmq",
        "outputId": "efa6b978-c8f5-43ae-8ee9-a35f08f9514f",
        "colab": {
          "base_uri": "https://localhost:8080/",
          "height": 296
        }
      },
      "source": [
        "dt_acoes = mglu['Date'][1]-mglu['Date'][0]\n",
        "\n",
        "plt.plot(mglu['Date'],mglu['Close'])\n",
        "plt.plot(mglu.iloc[-1,0]+dt_acoes,media_tres_pontos, '*')\n",
        "plt.ylabel(\"Valor das Ações\")\n",
        "plt.xlabel(\"Data\")"
      ],
      "execution_count": null,
      "outputs": [
        {
          "output_type": "execute_result",
          "data": {
            "text/plain": [
              "Text(0.5, 0, 'Data')"
            ]
          },
          "metadata": {
            "tags": []
          },
          "execution_count": 11
        },
        {
          "output_type": "display_data",
          "data": {
            "image/png": "[encoded data removed]",
            "text/plain": [
              "<Figure size 432x288 with 1 Axes>"
            ]
          },
          "metadata": {
            "tags": [],
            "needs_background": "light"
          }
        }
      ]
    },
    {
      "cell_type": "code",
      "metadata": {
        "id": "kLpjZW3GS6HR",
        "outputId": "9b70779a-b3a7-4730-c535-0e7866208656",
        "colab": {
          "base_uri": "https://localhost:8080/",
          "height": 204
        }
      },
      "source": [
        "media_movel = mglu.rolling(5).mean()\n",
        "\n",
        "media_movel['Date'] = mglu['Date']\n",
        "media_movel.head()"
      ],
      "execution_count": null,
      "outputs": [
        {
          "output_type": "execute_result",
          "data": {
            "text/html": [
              "<div>\n",
              "<style scoped>\n",
              "    .dataframe tbody tr th:only-of-type {\n",
              "        vertical-align: middle;\n",
              "    }\n",
              "\n",
              "    .dataframe tbody tr th {\n",
              "        vertical-align: top;\n",
              "    }\n",
              "\n",
              "    .dataframe thead th {\n",
              "        text-align: right;\n",
              "    }\n",
              "</style>\n",
              "<table border=\"1\" class=\"dataframe\">\n",
              "  <thead>\n",
              "    <tr style=\"text-align: right;\">\n",
              "      <th></th>\n",
              "      <th>Open</th>\n",
              "      <th>High</th>\n",
              "      <th>Low</th>\n",
              "      <th>Close</th>\n",
              "      <th>Adj Close</th>\n",
              "      <th>Volume</th>\n",
              "      <th>Variation</th>\n",
              "      <th>Date</th>\n",
              "    </tr>\n",
              "  </thead>\n",
              "  <tbody>\n",
              "    <tr>\n",
              "      <th>0</th>\n",
              "      <td>NaN</td>\n",
              "      <td>NaN</td>\n",
              "      <td>NaN</td>\n",
              "      <td>NaN</td>\n",
              "      <td>NaN</td>\n",
              "      <td>NaN</td>\n",
              "      <td>NaN</td>\n",
              "      <td>2019-10-22</td>\n",
              "    </tr>\n",
              "    <tr>\n",
              "      <th>1</th>\n",
              "      <td>NaN</td>\n",
              "      <td>NaN</td>\n",
              "      <td>NaN</td>\n",
              "      <td>NaN</td>\n",
              "      <td>NaN</td>\n",
              "      <td>NaN</td>\n",
              "      <td>NaN</td>\n",
              "      <td>2019-10-23</td>\n",
              "    </tr>\n",
              "    <tr>\n",
              "      <th>2</th>\n",
              "      <td>NaN</td>\n",
              "      <td>NaN</td>\n",
              "      <td>NaN</td>\n",
              "      <td>NaN</td>\n",
              "      <td>NaN</td>\n",
              "      <td>NaN</td>\n",
              "      <td>NaN</td>\n",
              "      <td>2019-10-24</td>\n",
              "    </tr>\n",
              "    <tr>\n",
              "      <th>3</th>\n",
              "      <td>NaN</td>\n",
              "      <td>NaN</td>\n",
              "      <td>NaN</td>\n",
              "      <td>NaN</td>\n",
              "      <td>NaN</td>\n",
              "      <td>NaN</td>\n",
              "      <td>NaN</td>\n",
              "      <td>2019-10-25</td>\n",
              "    </tr>\n",
              "    <tr>\n",
              "      <th>4</th>\n",
              "      <td>10.7925</td>\n",
              "      <td>10.93</td>\n",
              "      <td>10.665</td>\n",
              "      <td>10.7565</td>\n",
              "      <td>10.443843</td>\n",
              "      <td>31050400.0</td>\n",
              "      <td>-0.036</td>\n",
              "      <td>2019-10-28</td>\n",
              "    </tr>\n",
              "  </tbody>\n",
              "</table>\n",
              "</div>"
            ],
            "text/plain": [
              "      Open   High     Low    Close  Adj Close      Volume  Variation       Date\n",
              "0      NaN    NaN     NaN      NaN        NaN         NaN        NaN 2019-10-22\n",
              "1      NaN    NaN     NaN      NaN        NaN         NaN        NaN 2019-10-23\n",
              "2      NaN    NaN     NaN      NaN        NaN         NaN        NaN 2019-10-24\n",
              "3      NaN    NaN     NaN      NaN        NaN         NaN        NaN 2019-10-25\n",
              "4  10.7925  10.93  10.665  10.7565  10.443843  31050400.0     -0.036 2019-10-28"
            ]
          },
          "metadata": {
            "tags": []
          },
          "execution_count": 12
        }
      ]
    },
    {
      "cell_type": "code",
      "metadata": {
        "id": "wNXE-7tmS8kS",
        "outputId": "e0d9c9ce-b5e5-48cf-9d87-c289dd040f0c",
        "colab": {
          "base_uri": "https://localhost:8080/",
          "height": 282
        }
      },
      "source": [
        "plt.plot(mglu['Date'],mglu['Close'])\n",
        "plt.plot(media_movel['Date'],media_movel['Close'])\n",
        "\n",
        "\n"
      ],
      "execution_count": null,
      "outputs": [
        {
          "output_type": "execute_result",
          "data": {
            "text/plain": [
              "[<matplotlib.lines.Line2D at 0x7f69c95db080>]"
            ]
          },
          "metadata": {
            "tags": []
          },
          "execution_count": 13
        },
        {
          "output_type": "display_data",
          "data": {
            "image/png": "[encoded data removed]",
            "text/plain": [
              "<Figure size 432x288 with 1 Axes>"
            ]
          },
          "metadata": {
            "tags": [],
            "needs_background": "light"
          }
        }
      ]
    },
    {
      "cell_type": "code",
      "metadata": {
        "id": "lfjG1g0iWL2J",
        "outputId": "4112fa66-424e-4e7d-eb98-8b04d8dbf8e4",
        "colab": {
          "base_uri": "https://localhost:8080/",
          "height": 153
        }
      },
      "source": [
        "!pip install statsmodels==v0.11.0rc2\n"
      ],
      "execution_count": null,
      "outputs": [
        {
          "output_type": "stream",
          "text": [
            "Requirement already satisfied: statsmodels==v0.11.0rc2 in /usr/local/lib/python3.6/dist-packages (0.11.0rc2)\n",
            "Requirement already satisfied: pandas>=0.21 in /usr/local/lib/python3.6/dist-packages (from statsmodels==v0.11.0rc2) (1.1.2)\n",
            "Requirement already satisfied: numpy>=1.14 in /usr/local/lib/python3.6/dist-packages (from statsmodels==v0.11.0rc2) (1.18.5)\n",
            "Requirement already satisfied: patsy>=0.5 in /usr/local/lib/python3.6/dist-packages (from statsmodels==v0.11.0rc2) (0.5.1)\n",
            "Requirement already satisfied: scipy>=1.0 in /usr/local/lib/python3.6/dist-packages (from statsmodels==v0.11.0rc2) (1.4.1)\n",
            "Requirement already satisfied: pytz>=2017.2 in /usr/local/lib/python3.6/dist-packages (from pandas>=0.21->statsmodels==v0.11.0rc2) (2018.9)\n",
            "Requirement already satisfied: python-dateutil>=2.7.3 in /usr/local/lib/python3.6/dist-packages (from pandas>=0.21->statsmodels==v0.11.0rc2) (2.8.1)\n",
            "Requirement already satisfied: six in /usr/local/lib/python3.6/dist-packages (from patsy>=0.5->statsmodels==v0.11.0rc2) (1.15.0)\n"
          ],
          "name": "stdout"
        }
      ]
    },
    {
      "cell_type": "code",
      "metadata": {
        "id": "Bid9t4heWVJ-"
      },
      "source": [
        "from statsmodels.tsa.seasonal import seasonal_decompose"
      ],
      "execution_count": null,
      "outputs": []
    },
    {
      "cell_type": "code",
      "metadata": {
        "id": "LNgBTwF6WYGW"
      },
      "source": [
        "result_c = seasonal_decompose(mglu['Date'],period=35)\n",
        "\n",
        "# result_c = seasonal_decompose(mglu.set_index('Date'),period=35)\n"
      ],
      "execution_count": null,
      "outputs": []
    },
    {
      "cell_type": "code",
      "metadata": {
        "id": "81Qy8LX3Wamr",
        "outputId": "c881135f-d06d-47ad-abb9-84e18f4732c4",
        "colab": {
          "base_uri": "https://localhost:8080/",
          "height": 441
        }
      },
      "source": [
        "plt.rcParams['figure.figsize'] = (10,6)\n",
        "result_c.plot();"
      ],
      "execution_count": null,
      "outputs": [
        {
          "output_type": "display_data",
          "data": {
            "image/png": "[encoded data removed]",
            "text/plain": [
              "<Figure size 720x432 with 4 Axes>"
            ]
          },
          "metadata": {
            "tags": [],
            "needs_background": "light"
          }
        }
      ]
    },
    {
      "cell_type": "code",
      "metadata": {
        "id": "DnLLEseDQ302",
        "outputId": "65dc6268-c800-4929-8a62-9949104a0861",
        "colab": {
          "base_uri": "https://localhost:8080/",
          "height": 391
        }
      },
      "source": [
        "# Checando a Estacionariedade - talvez essa base não tem Estacionariedade\n",
        "\n",
        "mglu['Close'].hist()\n",
        "\n",
        "# Histograma nao tem a forma de sino, forma de Gauge - entao nao teria a Estacionariedade ?!"
      ],
      "execution_count": null,
      "outputs": [
        {
          "output_type": "execute_result",
          "data": {
            "text/plain": [
              "<matplotlib.axes._subplots.AxesSubplot at 0x7f69c4d61160>"
            ]
          },
          "metadata": {
            "tags": []
          },
          "execution_count": 24
        },
        {
          "output_type": "display_data",
          "data": {
            "image/png": "[encoded data removed]",
            "text/plain": [
              "<Figure size 720x432 with 1 Axes>"
            ]
          },
          "metadata": {
            "tags": [],
            "needs_background": "light"
          }
        }
      ]
    },
    {
      "cell_type": "code",
      "metadata": {
        "id": "_pqJXKZ1WVze",
        "outputId": "b2474d68-0452-4997-e04f-6b3cb784ecf0",
        "colab": {
          "base_uri": "https://localhost:8080/",
          "height": 170
        }
      },
      "source": [
        "# Fazendo um teste de campo com Null - coluna Close - depois trato melhor fazendo a media ou alguma coisa\n",
        "mglu.update(mglu['Close'].fillna(1))\n",
        "mglu.isnull().sum()"
      ],
      "execution_count": null,
      "outputs": [
        {
          "output_type": "execute_result",
          "data": {
            "text/plain": [
              "Date         0\n",
              "Open         1\n",
              "High         1\n",
              "Low          1\n",
              "Close        0\n",
              "Adj Close    1\n",
              "Volume       1\n",
              "Variation    1\n",
              "dtype: int64"
            ]
          },
          "metadata": {
            "tags": []
          },
          "execution_count": 43
        }
      ]
    },
    {
      "cell_type": "code",
      "metadata": {
        "id": "DtefZL2SR1Xs",
        "outputId": "390fe021-aacb-4a29-ec01-d775c5da148c",
        "colab": {
          "base_uri": "https://localhost:8080/",
          "height": 34
        }
      },
      "source": [
        "divide = int(len(mglu)/2)\n",
        "divide"
      ],
      "execution_count": null,
      "outputs": [
        {
          "output_type": "execute_result",
          "data": {
            "text/plain": [
              "124"
            ]
          },
          "metadata": {
            "tags": []
          },
          "execution_count": 45
        }
      ]
    },
    {
      "cell_type": "code",
      "metadata": {
        "id": "SkvQM0LOR47g"
      },
      "source": [
        "X = mglu['Close'].values"
      ],
      "execution_count": null,
      "outputs": []
    },
    {
      "cell_type": "code",
      "metadata": {
        "id": "6yqEazX9R5Lj",
        "outputId": "e2670474-9abc-45a6-fe0b-7acd38834eea",
        "colab": {
          "base_uri": "https://localhost:8080/",
          "height": 323
        }
      },
      "source": [
        "C1, C2 = X[0:divide],X[divide:]\n",
        "C1"
      ],
      "execution_count": null,
      "outputs": [
        {
          "output_type": "execute_result",
          "data": {
            "text/plain": [
              "array([10.93  , 10.8725, 10.8125, 10.5   , 10.6675, 10.2875, 11.005 ,\n",
              "       11.16  , 11.7975, 11.2425, 11.01  , 11.3   , 11.05  , 10.9525,\n",
              "       11.255 , 10.85  , 10.625 , 11.0625, 11.245 , 11.13  , 11.25  ,\n",
              "       11.3725, 11.075 , 10.76  , 11.4   , 11.4   , 11.2575, 11.23  ,\n",
              "       11.1475, 11.0175, 11.2225, 11.35  , 11.4625, 11.65  , 11.895 ,\n",
              "       11.9575, 12.2675, 12.325 , 11.97  , 12.1325, 12.155 , 12.1475,\n",
              "       12.185 , 12.2725, 12.1825, 11.925 , 12.3325, 12.2225, 12.2325,\n",
              "       12.1975, 12.5725, 13.02  , 12.95  , 13.5575, 13.5   , 13.415 ,\n",
              "       13.365 , 13.5875, 14.    , 13.9775, 13.9225, 14.145 , 14.0375,\n",
              "       13.45  , 14.2475, 14.3225, 14.125 , 13.95  , 14.1325, 14.415 ,\n",
              "       14.325 , 13.9575, 13.5575, 13.095 , 13.5675, 13.985 , 14.2625,\n",
              "       14.0825, 14.7125, 14.555 , 14.465 , 14.135 , 14.1125,  1.    ,\n",
              "       12.5625, 12.63  , 13.1375, 13.2125, 13.1125, 11.9475, 11.3325,\n",
              "       10.09  , 11.7475, 10.77  ,  8.5   , 10.5   ,  8.5175,  8.8925,\n",
              "        7.2025,  7.6375,  7.6625,  7.5525,  9.17  , 10.    , 10.28  ,\n",
              "        9.75  , 10.4   ,  9.7475,  9.37  ,  8.9725,  8.885 ,  9.55  ,\n",
              "       10.0225, 10.49  , 10.4125, 10.4775, 10.725 , 10.9625, 11.3925,\n",
              "       11.1475, 12.12  , 12.6375, 12.3675, 11.845 ])"
            ]
          },
          "metadata": {
            "tags": []
          },
          "execution_count": 48
        }
      ]
    },
    {
      "cell_type": "code",
      "metadata": {
        "id": "e7NhqMr6R5Yl",
        "outputId": "235be530-96ac-4ca5-ec50-1d7e3bd9f643",
        "colab": {
          "base_uri": "https://localhost:8080/",
          "height": 34
        }
      },
      "source": [
        "C1.mean()"
      ],
      "execution_count": null,
      "outputs": [
        {
          "output_type": "execute_result",
          "data": {
            "text/plain": [
              "11.677318548387099"
            ]
          },
          "metadata": {
            "tags": []
          },
          "execution_count": 49
        }
      ]
    },
    {
      "cell_type": "code",
      "metadata": {
        "id": "WmijQLYPSCXw",
        "outputId": "af4a7f04-2bfb-4432-d077-58731c9d80cf",
        "colab": {
          "base_uri": "https://localhost:8080/",
          "height": 34
        }
      },
      "source": [
        "C2.mean()"
      ],
      "execution_count": null,
      "outputs": [
        {
          "output_type": "execute_result",
          "data": {
            "text/plain": [
              "19.43130008"
            ]
          },
          "metadata": {
            "tags": []
          },
          "execution_count": 50
        }
      ]
    },
    {
      "cell_type": "code",
      "metadata": {
        "id": "7z2YceVKSCrt",
        "outputId": "e6d13b33-a438-4a84-9293-f7615615c524",
        "colab": {
          "base_uri": "https://localhost:8080/",
          "height": 34
        }
      },
      "source": [
        "C1.var()"
      ],
      "execution_count": null,
      "outputs": [
        {
          "output_type": "execute_result",
          "data": {
            "text/plain": [
              "3.74543267876886"
            ]
          },
          "metadata": {
            "tags": []
          },
          "execution_count": 51
        }
      ]
    },
    {
      "cell_type": "code",
      "metadata": {
        "id": "9B2j2mkMSGOz",
        "outputId": "6b0f2567-0ddd-4a60-d875-b5f0b3b040c2",
        "colab": {
          "base_uri": "https://localhost:8080/",
          "height": 34
        }
      },
      "source": [
        "C2.var()"
      ],
      "execution_count": null,
      "outputs": [
        {
          "output_type": "execute_result",
          "data": {
            "text/plain": [
              "13.1378046743523"
            ]
          },
          "metadata": {
            "tags": []
          },
          "execution_count": 52
        }
      ]
    },
    {
      "cell_type": "code",
      "metadata": {
        "id": "8dEznVrPT5PR"
      },
      "source": [
        "# Teste ADF, outra forma de checar a Estacionariedade\n",
        "\n",
        "from statsmodels.tsa.stattools import adfuller"
      ],
      "execution_count": null,
      "outputs": []
    },
    {
      "cell_type": "code",
      "metadata": {
        "id": "qaI_QUCvUfHd"
      },
      "source": [
        "resultado = adfuller(mglu['Close'].values)"
      ],
      "execution_count": null,
      "outputs": []
    },
    {
      "cell_type": "code",
      "metadata": {
        "id": "0iU2VMshUfT6",
        "outputId": "9ad8cf19-2150-4ced-bf66-790b778e4c5d",
        "colab": {
          "base_uri": "https://localhost:8080/",
          "height": 34
        }
      },
      "source": [
        "# Quanto mais negativo o numero for mais certeza temos que a serie é Estacionária. No caso tivemos um valor positivo, a serie não é Estacionária\n",
        "print('Estatística ADF',resultado[0])"
      ],
      "execution_count": null,
      "outputs": [
        {
          "output_type": "stream",
          "text": [
            "Estatística ADF 0.5928930187026704\n"
          ],
          "name": "stdout"
        }
      ]
    },
    {
      "cell_type": "code",
      "metadata": {
        "id": "Vnh-q3NIUf3T",
        "outputId": "4a6aa00e-26a0-4bab-cf17-ec7d5e6d3708",
        "colab": {
          "base_uri": "https://localhost:8080/",
          "height": 34
        }
      },
      "source": [
        "# Outro teste para checar se a serie é Estacionária, se for menor que 0,05 é Estacionária.\n",
        "# Teste de hipótese\n",
        "print('p-valor: %f' % resultado[1])"
      ],
      "execution_count": null,
      "outputs": [
        {
          "output_type": "stream",
          "text": [
            "p-valor: 0.987439\n"
          ],
          "name": "stdout"
        }
      ]
    },
    {
      "cell_type": "code",
      "metadata": {
        "id": "ZBu7-2sRUfz3",
        "outputId": "ff52c8b8-6ce9-4bdb-f5d5-8d217d3e0010",
        "colab": {
          "base_uri": "https://localhost:8080/",
          "height": 333
        }
      },
      "source": [
        "# Previsão por suavização - Suavização exponencial\n",
        "\n",
        "mglu = mglu.set_index('Date')\n",
        "mglu"
      ],
      "execution_count": null,
      "outputs": [
        {
          "output_type": "error",
          "ename": "KeyError",
          "evalue": "ignored",
          "traceback": [
            "\u001b[0;31m---------------------------------------------------------------------------\u001b[0m",
            "\u001b[0;31mKeyError\u001b[0m                                  Traceback (most recent call last)",
            "\u001b[0;32m<ipython-input-62-1a473e753b2b>\u001b[0m in \u001b[0;36m<module>\u001b[0;34m()\u001b[0m\n\u001b[1;32m      1\u001b[0m \u001b[0;31m# Previsão por suavização - Suavização exponencial\u001b[0m\u001b[0;34m\u001b[0m\u001b[0;34m\u001b[0m\u001b[0;34m\u001b[0m\u001b[0m\n\u001b[1;32m      2\u001b[0m \u001b[0;34m\u001b[0m\u001b[0m\n\u001b[0;32m----> 3\u001b[0;31m \u001b[0mmglu\u001b[0m \u001b[0;34m=\u001b[0m \u001b[0mmglu\u001b[0m\u001b[0;34m.\u001b[0m\u001b[0mset_index\u001b[0m\u001b[0;34m(\u001b[0m\u001b[0;34m'Date'\u001b[0m\u001b[0;34m)\u001b[0m\u001b[0;34m\u001b[0m\u001b[0;34m\u001b[0m\u001b[0m\n\u001b[0m\u001b[1;32m      4\u001b[0m \u001b[0mmglu\u001b[0m\u001b[0;34m\u001b[0m\u001b[0;34m\u001b[0m\u001b[0m\n",
            "\u001b[0;32m/usr/local/lib/python3.6/dist-packages/pandas/core/frame.py\u001b[0m in \u001b[0;36mset_index\u001b[0;34m(self, keys, drop, append, inplace, verify_integrity)\u001b[0m\n\u001b[1;32m   4548\u001b[0m \u001b[0;34m\u001b[0m\u001b[0m\n\u001b[1;32m   4549\u001b[0m         \u001b[0;32mif\u001b[0m \u001b[0mmissing\u001b[0m\u001b[0;34m:\u001b[0m\u001b[0;34m\u001b[0m\u001b[0;34m\u001b[0m\u001b[0m\n\u001b[0;32m-> 4550\u001b[0;31m             \u001b[0;32mraise\u001b[0m \u001b[0mKeyError\u001b[0m\u001b[0;34m(\u001b[0m\u001b[0;34mf\"None of {missing} are in the columns\"\u001b[0m\u001b[0;34m)\u001b[0m\u001b[0;34m\u001b[0m\u001b[0;34m\u001b[0m\u001b[0m\n\u001b[0m\u001b[1;32m   4551\u001b[0m \u001b[0;34m\u001b[0m\u001b[0m\n\u001b[1;32m   4552\u001b[0m         \u001b[0;32mif\u001b[0m \u001b[0minplace\u001b[0m\u001b[0;34m:\u001b[0m\u001b[0;34m\u001b[0m\u001b[0;34m\u001b[0m\u001b[0m\n",
            "\u001b[0;31mKeyError\u001b[0m: \"None of ['Date'] are in the columns\""
          ]
        }
      ]
    },
    {
      "cell_type": "code",
      "metadata": {
        "id": "Q_-FJH4kUfxV"
      },
      "source": [
        ""
      ],
      "execution_count": null,
      "outputs": []
    },
    {
      "cell_type": "code",
      "metadata": {
        "id": "wk1To9kCUfup"
      },
      "source": [
        ""
      ],
      "execution_count": null,
      "outputs": []
    },
    {
      "cell_type": "code",
      "metadata": {
        "id": "GAr9grnNUfsJ"
      },
      "source": [
        ""
      ],
      "execution_count": null,
      "outputs": []
    },
    {
      "cell_type": "code",
      "metadata": {
        "id": "MPFIuWHBUfpY"
      },
      "source": [
        ""
      ],
      "execution_count": null,
      "outputs": []
    },
    {
      "cell_type": "code",
      "metadata": {
        "id": "8H6SKXXIUfmS"
      },
      "source": [
        ""
      ],
      "execution_count": null,
      "outputs": []
    },
    {
      "cell_type": "code",
      "metadata": {
        "id": "C75hTZyYUfjz"
      },
      "source": [
        ""
      ],
      "execution_count": null,
      "outputs": []
    },
    {
      "cell_type": "code",
      "metadata": {
        "id": "d0XIFkVKUffD"
      },
      "source": [
        ""
      ],
      "execution_count": null,
      "outputs": []
    },
    {
      "cell_type": "markdown",
      "metadata": {
        "id": "K7UKfxC4syJi"
      },
      "source": [
        "**Visualizando em Candlesticks**\n",
        "\n",
        "Os *candlesticks* são gráficos do tipo vela, por isso o *candle*.\n",
        "\n",
        "* Candlestick de **Alta**:\n",
        "    * São os **verdes** e eles têm inicio na parte de baixo onde se encontra o valor de abertura e termina em cima onde se tem o valor de fechamento.\n",
        "    * As linhas finas embaixo e em cima do corpo do candle, que corresponderiam às chamas de uma vela, são os valores de, embaixo de minimo, em cima de máximo.\n",
        "    \n",
        "* Candlestick de **Baixa**:\n",
        "    * São os **vermelhos** e eles têm inicio na parte de cima onde se encontra o valor de abertura e termina embaixo onde se tem o valor de fechamento.\n",
        "    * As linhas finas embaixo e em cima do corpo do candle, que corresponderiam às chamas de uma vela, são os valores de, embaixo de minimo, em cima de máximo."
      ]
    },
    {
      "cell_type": "code",
      "metadata": {
        "id": "vGWH6DPusyJj"
      },
      "source": [
        "dataset2 = dataset.head(7) # apenas as 7 primeiras linhas\n",
        "dados = go.Candlestick(x=dataset2.Date, # x= data ou tempo\n",
        "                       open=dataset2.Open, # abertura\n",
        "                       high=dataset2.High, #máxima\n",
        "                       low=dataset2.Low, #minima\n",
        "                       close=dataset2.Close, # fechamento\n",
        "                       )\n",
        "\n",
        "data=[dados]\n",
        "py.offline.iplot(data,filename='grafico_candlestick')"
      ],
      "execution_count": null,
      "outputs": []
    },
    {
      "cell_type": "markdown",
      "metadata": {
        "id": "PJBczOG3syJn"
      },
      "source": [
        "**Visualizando precos em formato de candles dos últimos 6 meses**\n",
        "\n",
        "Dá para definir uma faixa menor, dá zoom etc, através da barra inferior."
      ]
    },
    {
      "cell_type": "code",
      "metadata": {
        "id": "2qcEN1CjsyJo"
      },
      "source": [
        "dataset2 = dataset.head(180)\n",
        "dados = go.Candlestick(x=dataset2.Date,\n",
        "                       open=dataset2.Open,\n",
        "                       high=dataset2.High,\n",
        "                       low=dataset2.Low,\n",
        "                       close=dataset2.Close,\n",
        "                       )\n",
        "\n",
        "data=[dados]\n",
        "py.offline.iplot(data,filename='grafico_candlestick')"
      ],
      "execution_count": null,
      "outputs": []
    },
    {
      "cell_type": "markdown",
      "metadata": {
        "id": "A5Q7fCS6syJs"
      },
      "source": [
        "**Plotando a variação no período**\n",
        "\n",
        "O intuito aqui é somente ver se há algum padrão, o que parece não haver, por estar com valores oscilantes e muito ruidosos."
      ]
    },
    {
      "cell_type": "code",
      "metadata": {
        "scrolled": false,
        "id": "4ZKNUuXlsyJt"
      },
      "source": [
        "%matplotlib notebook\n",
        "import matplotlib.dates as mdates\n",
        "import datetime as dt\n",
        "x = dataset['Date']\n",
        "y = dataset['Variation']\n",
        "plt.plot_date(x,y, color='r',fmt=\"r-\")\n",
        "plt.xticks(rotation=30)\n",
        "plt.show();"
      ],
      "execution_count": null,
      "outputs": []
    },
    {
      "cell_type": "markdown",
      "metadata": {
        "id": "V1DRckdNsyJz"
      },
      "source": [
        "# 3. Correlações de Features e Classe\n",
        "\n",
        "Não é dificil encontrar em dados financeiros, alguns tipos de correlações, isso por algo bem simples: O volume de venda e compra é bastante alto diariamente, então dificilmente haverá algum tipo de variação onde o preço de abertura não estará diretamente relacionado ao preço de fechamento, por exemplo, a não ser que naquele dia estoure algum escândalo muito grande que arrisque a continuidade da empresa em seu ramo, ai sim as pessoas começariam a vender suas ações e elas despencariam."
      ]
    },
    {
      "cell_type": "markdown",
      "metadata": {
        "id": "qfCQsTzxsyJz"
      },
      "source": [
        "**Atribuindo a variável *dataset* à variável *treino***\n",
        "\n",
        "Para manter os dados originais."
      ]
    },
    {
      "cell_type": "code",
      "metadata": {
        "id": "_Jm8nUKYsyJ0"
      },
      "source": [
        "treino = dataset"
      ],
      "execution_count": null,
      "outputs": []
    },
    {
      "cell_type": "markdown",
      "metadata": {
        "id": "23xGTzMLsyJ3"
      },
      "source": [
        "**Plotando a dispersão entre o preço de abertura (Open) e fechamento (Close) dos últimos 100 dias**\n",
        "\n",
        "Correlação positiva."
      ]
    },
    {
      "cell_type": "code",
      "metadata": {
        "id": "9MvrqdxtsyJ5"
      },
      "source": [
        "%matplotlib notebook\n",
        "x = treino.Open[:100]\n",
        "y = treino.Close[:100]\n",
        "plt.scatter(x,y,color='b')\n",
        "plt.xlabel('preco de abertura')\n",
        "plt.ylabel('preco de fechamento')\n",
        "plt.axis([min(x),max(x),min(y),max(y)])\n",
        "plt.autoscale('False')\n",
        "plt.show();"
      ],
      "execution_count": null,
      "outputs": []
    },
    {
      "cell_type": "markdown",
      "metadata": {
        "id": "LzAtwukusyJ-"
      },
      "source": [
        "**Plotando a dispersão entre o preço de máxima (high) e fechamento (Close) dos últimos 100 dias**\n",
        "\n",
        "Correlação Positiva."
      ]
    },
    {
      "cell_type": "code",
      "metadata": {
        "id": "55DkejtXsyJ_"
      },
      "source": [
        "%matplotlib notebook\n",
        "x = treino.High[:100]\n",
        "y = treino.Close[:100]\n",
        "plt.scatter(x,y,color='b')\n",
        "plt.xlabel('preco da maxima')\n",
        "plt.ylabel('preco de fechamento')\n",
        "plt.axis([min(x),max(x),min(y),max(y)])\n",
        "plt.autoscale('False')\n",
        "plt.show();"
      ],
      "execution_count": null,
      "outputs": []
    },
    {
      "cell_type": "markdown",
      "metadata": {
        "id": "bncfYP6qsyKC"
      },
      "source": [
        "**Plotando a dispersão entre o preço de mínima(Low) e fechamento (Close) dos últimos 100 dias**\n",
        "\n",
        "Correlação Positiva."
      ]
    },
    {
      "cell_type": "code",
      "metadata": {
        "id": "8OyutI9qsyKD"
      },
      "source": [
        "%matplotlib notebook\n",
        "x = treino.Low[:100]\n",
        "y = treino.Close[:100]\n",
        "plt.scatter(x,y,color='b')\n",
        "plt.xlabel('preco de Minima')\n",
        "plt.ylabel('preco de fechamento')\n",
        "plt.axis([min(x),max(x),min(y),max(y)])\n",
        "plt.autoscale('False')\n",
        "plt.show();"
      ],
      "execution_count": null,
      "outputs": []
    },
    {
      "cell_type": "markdown",
      "metadata": {
        "id": "RZC9sLsusyKH"
      },
      "source": [
        "**Plotando a dispersão entre o Volume e fechamento (Close) dos últimos 100 dias**\n",
        "\n",
        "Não há correlação nenhuma."
      ]
    },
    {
      "cell_type": "code",
      "metadata": {
        "id": "8Aa34Z6AsyKI"
      },
      "source": [
        "%matplotlib notebook\n",
        "x = treino.Volume[:100]\n",
        "y = treino.Close[:100]\n",
        "plt.scatter(x,y,color='b')\n",
        "plt.xlabel('Volume')\n",
        "plt.ylabel('preco de fechamento')\n",
        "plt.axis([min(x),max(x),min(y),max(y)])\n",
        "plt.ticklabel_format(style='plain', axis='x')\n",
        "plt.autoscale('False')\n",
        "plt.xticks(rotation=45)\n",
        "plt.show();"
      ],
      "execution_count": null,
      "outputs": []
    },
    {
      "cell_type": "markdown",
      "metadata": {
        "id": "hdi4Bp0zsyKM"
      },
      "source": [
        "**Vamos visualizar os dados antes de separá-los**"
      ]
    },
    {
      "cell_type": "code",
      "metadata": {
        "id": "QSgFhPQgsyKO"
      },
      "source": [
        "treino.head()"
      ],
      "execution_count": null,
      "outputs": []
    },
    {
      "cell_type": "markdown",
      "metadata": {
        "id": "S3b6Ma9CsyKS"
      },
      "source": [
        "**Algumas considerações**\n",
        "* As variáveis do modelo serão:\n",
        "    * 'Open','High','Low' e 'Volume'\n",
        "* A *Variation* não será passada por ser variação de fechamento e abertura\n",
        "* *Close* não é algo que se tem no cenário real, é o que se quer prever\n",
        "* *Date* não é relevante, pois o que nos interessa é traçar relações entre volume, abertura, fechamento etc. Além de a Regressão Linear não aceitar datetime"
      ]
    },
    {
      "cell_type": "code",
      "metadata": {
        "id": "IhUSBw7ysyKS"
      },
      "source": [
        "# variaveis a serem utilizadas no modelo\n",
        "features = ['Open','High','Low','Volume']\n",
        "# separando os dados de treino\n",
        "treino = treino[features]\n",
        "# pode ser treino = treinofeatures['Open','High','Low','Volume']\n",
        "# treino é uma cópia do dataframe original\n",
        "treino.head()"
      ],
      "execution_count": null,
      "outputs": []
    },
    {
      "cell_type": "markdown",
      "metadata": {
        "id": "ct22PO9gsyKW"
      },
      "source": [
        "**Criando variável com a classe**"
      ]
    },
    {
      "cell_type": "code",
      "metadata": {
        "id": "OuEP_l3osyKX"
      },
      "source": [
        "# criando a variável\n",
        "y=dataset['Close']\n",
        "# visualizando 3 primeiras linhas\n",
        "y.head(3)"
      ],
      "execution_count": null,
      "outputs": []
    },
    {
      "cell_type": "markdown",
      "metadata": {
        "id": "7zAEG5oPsyKZ"
      },
      "source": [
        "# 4. Machine Learning"
      ]
    },
    {
      "cell_type": "markdown",
      "metadata": {
        "id": "YAh-0m39syKa"
      },
      "source": [
        "**Separando os dados**\n",
        "\n",
        "O padrão do train_test_split para test_size é 0.25.\n",
        "\n",
        "random_state=42 é só para manter a mesma separação em todas as vezes.\n",
        "\n",
        "É importante frisar que o número é indiferente, se você passar o valor de 1 ou de 1000 e sempre passar o mesmo valor, você sempre terá a mesma separação de dados.\n",
        "\n",
        "O *42* é uma convenção *geek* apenas, graças ao *guia do mochileiro das galáxias*."
      ]
    },
    {
      "cell_type": "code",
      "metadata": {
        "id": "Gjg8SrBnsyKb"
      },
      "source": [
        "X_treino, X_teste, y_treino, y_teste = train_test_split(\n",
        "treino, y, random_state=42)"
      ],
      "execution_count": null,
      "outputs": []
    },
    {
      "cell_type": "markdown",
      "metadata": {
        "id": "CVp4tb-_syKq"
      },
      "source": [
        "**Visualizando o dataframe X_treino**"
      ]
    },
    {
      "cell_type": "code",
      "metadata": {
        "id": "tsr9NWvPsyKr"
      },
      "source": [
        "X_treino.head()"
      ],
      "execution_count": null,
      "outputs": []
    },
    {
      "cell_type": "markdown",
      "metadata": {
        "id": "ZZ2HE7nisyKu"
      },
      "source": [
        "**Visualizando dados de teste**"
      ]
    },
    {
      "cell_type": "code",
      "metadata": {
        "id": "ADUJDlIhsyKu"
      },
      "source": [
        "X_teste.head()"
      ],
      "execution_count": null,
      "outputs": []
    },
    {
      "cell_type": "markdown",
      "metadata": {
        "id": "hBwn6x1UsyKy"
      },
      "source": [
        "**Visualizando as classes de treino**"
      ]
    },
    {
      "cell_type": "code",
      "metadata": {
        "id": "cRbJFLq0syKy"
      },
      "source": [
        "y_treino.head()"
      ],
      "execution_count": null,
      "outputs": []
    },
    {
      "cell_type": "markdown",
      "metadata": {
        "id": "t6CbLfNNsyK1"
      },
      "source": [
        "**Visualizando as classes do teste**"
      ]
    },
    {
      "cell_type": "code",
      "metadata": {
        "id": "RjCQSEWvsyK2"
      },
      "source": [
        "y_teste.head()"
      ],
      "execution_count": null,
      "outputs": []
    },
    {
      "cell_type": "markdown",
      "metadata": {
        "id": "sdt5SZnRsyK6"
      },
      "source": [
        "**Criando um objeto do tipo LinearRegression**"
      ]
    },
    {
      "cell_type": "code",
      "metadata": {
        "id": "sPxC-VUzsyK6"
      },
      "source": [
        "lr_model = LinearRegression()"
      ],
      "execution_count": null,
      "outputs": []
    },
    {
      "cell_type": "markdown",
      "metadata": {
        "id": "6G_TQGkjsyK9"
      },
      "source": [
        "**Treinando o algoritmo**"
      ]
    },
    {
      "cell_type": "code",
      "metadata": {
        "id": "byx06C5EsyK9"
      },
      "source": [
        "lr_model.fit(X_treino,y_treino)"
      ],
      "execution_count": null,
      "outputs": []
    },
    {
      "cell_type": "markdown",
      "metadata": {
        "id": "okXr60wQsyLA"
      },
      "source": [
        "**Visualizando os coeficientes (pesos) do algoritmo**\n",
        "\n",
        "Interessante observar o valor negativo do peso associado a feature Open (Abertura)."
      ]
    },
    {
      "cell_type": "code",
      "metadata": {
        "id": "9rwNWgIFsyLA"
      },
      "source": [
        "lr_model.coef_"
      ],
      "execution_count": null,
      "outputs": []
    },
    {
      "cell_type": "markdown",
      "metadata": {
        "id": "WrnzrBoSsyLC"
      },
      "source": [
        "**Vamos Predizer 10 preços?**"
      ]
    },
    {
      "cell_type": "code",
      "metadata": {
        "id": "yghUdmRhsyLD"
      },
      "source": [
        "lr_model.predict(X_teste)[:10]"
      ],
      "execution_count": null,
      "outputs": []
    },
    {
      "cell_type": "markdown",
      "metadata": {
        "id": "Ypnj2QINsyLF"
      },
      "source": [
        "**Visualizando preços reais dos mesmos dados**\n",
        "\n",
        "Veja que nosso algoritmo se saiu bem, abaixo vamos ver sua precisão."
      ]
    },
    {
      "cell_type": "code",
      "metadata": {
        "id": "1v7iu8WAsyLF"
      },
      "source": [
        "y_teste[:10]"
      ],
      "execution_count": null,
      "outputs": []
    },
    {
      "cell_type": "markdown",
      "metadata": {
        "id": "sR4JoUnSsyLK"
      },
      "source": [
        "**Vamos plotar os erros?**\n",
        "\n",
        "Para fins didáticos.\n",
        "\n",
        "Veja que é razoavelmente baixo."
      ]
    },
    {
      "cell_type": "code",
      "metadata": {
        "id": "FfyaY596syLK"
      },
      "source": [
        "erro=pd.DataFrame(y_teste[:10].values).sub(lr_model.predict(X_teste)[:10].reshape(10,-1),axis=1)\n",
        "print(erro)"
      ],
      "execution_count": null,
      "outputs": []
    },
    {
      "cell_type": "markdown",
      "metadata": {
        "id": "xb2agmbksyLN"
      },
      "source": [
        "**Vamos visualizar graficamente os dados reais com os preditos**\n",
        "\n",
        "Veja que basicamente não houve erro."
      ]
    },
    {
      "cell_type": "code",
      "metadata": {
        "scrolled": true,
        "id": "8mq1OkARsyLO"
      },
      "source": [
        "%matplotlib notebook\n",
        "# Armazenando dados preditos em dataframe.\n",
        "predicoes = pd.DataFrame(lr_model.predict(X_teste)[:10])\n",
        "\n",
        "# Armazenando dados reais em dataframe.\n",
        "y_teste2= pd.DataFrame(y_teste[:10].values)\n",
        "\n",
        "# Definindo o estilo do gráfico.\n",
        "plt.style.use(\"ggplot\")\n",
        "\n",
        "# Definindo o título de eixos do gráfico.\n",
        "plt.xlabel('Preços')\n",
        "plt.ylabel('Indice')\n",
        "plt.title('Precos Reais vs Predições')\n",
        "\n",
        "# Ordenando os valores e plotando as linhas\n",
        "plt.plot(predicoes.sort_values(by=0),predicoes.index)\n",
        "plt.plot(y_teste2.sort_values(by=0),y_teste2.index)\n",
        "# o +15 é pra o as linhas não ficarem sobrepostas, pois elas são muito parecidas graças ao erro muito pequeno\n",
        "\n",
        "# Definindo legenda do gráfico\n",
        "plt.legend(['Predições','Preços Reais']);"
      ],
      "execution_count": null,
      "outputs": []
    },
    {
      "cell_type": "markdown",
      "metadata": {
        "id": "aQzAC2sBsyLP"
      },
      "source": [
        "**Mesmo gráfico porém com as linhas separadas**\n",
        "\n",
        "Para isso, no segundo plot fiz um soma dos dados por 15, apenas para avançar a linha no gráfico."
      ]
    },
    {
      "cell_type": "code",
      "metadata": {
        "id": "cG8B1LjWsyLQ"
      },
      "source": [
        "%matplotlib notebook\n",
        "# Armazenando dados preditos em dataframe. + 15 para melhorar a visualização\n",
        "predicoes = pd.DataFrame(lr_model.predict(X_teste)[:10])\n",
        "\n",
        "# Armazenando dados reais em dataframe.\n",
        "y_teste2= pd.DataFrame(y_teste[:10].values)\n",
        "\n",
        "# Definindo o estilo do gráfico.\n",
        "plt.style.use(\"ggplot\")\n",
        "\n",
        "# Definindo o título de eixos do gráfico.\n",
        "plt.xlabel('Preços')\n",
        "plt.ylabel('Indice')\n",
        "plt.title('Precos Reais vs Predições')\n",
        "\n",
        "# Ordenando os valores e plotando as linhas\n",
        "plt.plot(predicoes.sort_values(by=0),predicoes.index)\n",
        "plt.plot(y_teste2.sort_values(by=0)+15,y_teste2.index)\n",
        "# o +15 é pra o as linhas não ficarem sobrepostas, pois elas são muito parecidas graças ao erro muito pequeno\n",
        "\n",
        "# Definindo legenda do gráfico\n",
        "plt.legend(['Predições','Preços Reais']);"
      ],
      "execution_count": null,
      "outputs": []
    },
    {
      "cell_type": "markdown",
      "metadata": {
        "id": "BZGOtMKnsyLS"
      },
      "source": [
        "# 5. Validação\n",
        "\n",
        "Vamos utilizar apenas o **Erro médio** e a **Raiz quadrada do erro-médio** para visualizar,\n",
        "\n",
        "Veja que continuam baixos os erros."
      ]
    },
    {
      "cell_type": "markdown",
      "metadata": {
        "id": "jcQGZiT1syLT"
      },
      "source": [
        "**mean_squared_error** \n",
        "\n",
        "Significa o erro médio.\n",
        "\n",
        "Quanto mais próximo de 0 melhor."
      ]
    },
    {
      "cell_type": "code",
      "metadata": {
        "id": "1oeJjRZxsyLT"
      },
      "source": [
        "mean_squared_error(y_teste, lr_model.predict(X_teste))"
      ],
      "execution_count": null,
      "outputs": []
    },
    {
      "cell_type": "markdown",
      "metadata": {
        "id": "OXHW3-KrsyLW"
      },
      "source": [
        "**RMSE - Root Mean Square Error**\n",
        "\n",
        "Significa Raiz quadrada do erro-médio.\n",
        "\n",
        "Quanto mais próximo de 0 melhor, também.\n",
        "\n",
        "Utiliza unidades dependentes."
      ]
    },
    {
      "cell_type": "code",
      "metadata": {
        "id": "0qOWy_bZsyLW"
      },
      "source": [
        "RMSE = mean_squared_error(y_teste, lr_model.predict(X_teste))**0.5\n",
        "RMSE"
      ],
      "execution_count": null,
      "outputs": []
    },
    {
      "cell_type": "markdown",
      "metadata": {
        "id": "NuLCMGs0syLZ"
      },
      "source": [
        "**Outra forma de obter o rmse**"
      ]
    },
    {
      "cell_type": "code",
      "metadata": {
        "id": "r9RJ9UmtsyLZ"
      },
      "source": [
        "from math import sqrt\n",
        "RMSE2 = sqrt(mean_squared_error(y_teste, lr_model.predict(X_teste)))\n",
        "RMSE2"
      ],
      "execution_count": null,
      "outputs": []
    },
    {
      "cell_type": "markdown",
      "metadata": {
        "id": "9ssuik2UsyLc"
      },
      "source": [
        "# 6. Testando alterações no modelo"
      ]
    },
    {
      "cell_type": "markdown",
      "metadata": {
        "id": "4lRP_L_OsyLd"
      },
      "source": [
        "## Somente 'Open' e High'"
      ]
    },
    {
      "cell_type": "markdown",
      "metadata": {
        "id": "iAX37aXmsyLd"
      },
      "source": [
        "**Instanciando o algoritmo**"
      ]
    },
    {
      "cell_type": "code",
      "metadata": {
        "id": "LLgbjtGcsyLd"
      },
      "source": [
        "lr_model2 = LinearRegression()"
      ],
      "execution_count": null,
      "outputs": []
    },
    {
      "cell_type": "markdown",
      "metadata": {
        "id": "WBmJ7M2nsyLf"
      },
      "source": [
        "**Separando os dados**"
      ]
    },
    {
      "cell_type": "code",
      "metadata": {
        "id": "yNj5ihtqsyLg"
      },
      "source": [
        "features = ['Open','High']\n",
        "treino2 = treino[features]"
      ],
      "execution_count": null,
      "outputs": []
    },
    {
      "cell_type": "markdown",
      "metadata": {
        "id": "kKW6AsX7syLi"
      },
      "source": [
        "**Visualizando dados de features**"
      ]
    },
    {
      "cell_type": "code",
      "metadata": {
        "id": "eOZADIezsyLi"
      },
      "source": [
        "treino2.head()"
      ],
      "execution_count": null,
      "outputs": []
    },
    {
      "cell_type": "markdown",
      "metadata": {
        "id": "l6dGslLosyLl"
      },
      "source": [
        "**Separando os dados 75% treino e 25% teste**\n",
        "\n",
        "Perceba que estou passando o mesmo *random_state=42* para manter a mesma divisão de dados e assim conseguir avaliar de uma maneira correta os modelos."
      ]
    },
    {
      "cell_type": "code",
      "metadata": {
        "id": "FlyK9-N0syLl"
      },
      "source": [
        "X_treino, X_teste, y_treino, y_teste = train_test_split(\n",
        "treino2, y, random_state=42)"
      ],
      "execution_count": null,
      "outputs": []
    },
    {
      "cell_type": "markdown",
      "metadata": {
        "id": "XH0uNDu6syLm"
      },
      "source": [
        "**Treinando o algoritmo**"
      ]
    },
    {
      "cell_type": "code",
      "metadata": {
        "id": "bOpAo585syLn"
      },
      "source": [
        "lr_model2.fit(X_treino,y_treino)"
      ],
      "execution_count": null,
      "outputs": []
    },
    {
      "cell_type": "markdown",
      "metadata": {
        "id": "QvqMYPZNsyLq"
      },
      "source": [
        "**Imprimindo os pesos**\n",
        "\n",
        "Veja que *'Open'* continua negativo."
      ]
    },
    {
      "cell_type": "code",
      "metadata": {
        "id": "UiQ68aShsyLq"
      },
      "source": [
        "lr_model2.coef_"
      ],
      "execution_count": null,
      "outputs": []
    },
    {
      "cell_type": "markdown",
      "metadata": {
        "id": "kRpmkMbFsyLu"
      },
      "source": [
        "**Validando o modelo com o RMSE**\n",
        "\n",
        "0.24 é maior que 0.15, logo piorou o modelo."
      ]
    },
    {
      "cell_type": "code",
      "metadata": {
        "id": "vVT1H6N8syLv"
      },
      "source": [
        "RMSE = mean_squared_error(y_teste, lr_model2.predict(X_teste))**0.5\n",
        "RMSE"
      ],
      "execution_count": null,
      "outputs": []
    },
    {
      "cell_type": "markdown",
      "metadata": {
        "id": "yEIx8eq9syLx"
      },
      "source": [
        "## Somente 'Open' e High' com normalização"
      ]
    },
    {
      "cell_type": "markdown",
      "metadata": {
        "id": "-EQVwfgesyLx"
      },
      "source": [
        "**Instanciando o algoritmo**"
      ]
    },
    {
      "cell_type": "code",
      "metadata": {
        "id": "oB6ooGLOsyLx"
      },
      "source": [
        "lr_model3 = LinearRegression(normalize=True)"
      ],
      "execution_count": null,
      "outputs": []
    },
    {
      "cell_type": "markdown",
      "metadata": {
        "id": "rlkypPmZsyL0"
      },
      "source": [
        "**Separando os dados**"
      ]
    },
    {
      "cell_type": "code",
      "metadata": {
        "id": "x--AlovgsyL1"
      },
      "source": [
        "features = ['Open','High']\n",
        "treino3 = treino[features]"
      ],
      "execution_count": null,
      "outputs": []
    },
    {
      "cell_type": "markdown",
      "metadata": {
        "id": "nlxItAvnsyL4"
      },
      "source": [
        "**Visualizando os dados**"
      ]
    },
    {
      "cell_type": "code",
      "metadata": {
        "id": "uYEIJR_2syL4"
      },
      "source": [
        "treino3.head()"
      ],
      "execution_count": null,
      "outputs": []
    },
    {
      "cell_type": "markdown",
      "metadata": {
        "id": "tMqtgCfPsyL6"
      },
      "source": [
        "**Separando os dados 75% treino e 25% teste**\n",
        "\n",
        "Passando o mesmo *random_state=42)*."
      ]
    },
    {
      "cell_type": "code",
      "metadata": {
        "id": "gnXBGW4xsyL7"
      },
      "source": [
        "X_treino, X_teste, y_treino, y_teste = train_test_split(\n",
        "treino3, y, random_state=42)"
      ],
      "execution_count": null,
      "outputs": []
    },
    {
      "cell_type": "markdown",
      "metadata": {
        "id": "vp9eYJudsyL8"
      },
      "source": [
        "**Treinando o algoritmo**"
      ]
    },
    {
      "cell_type": "code",
      "metadata": {
        "id": "ScY0AzX-syL8"
      },
      "source": [
        "lr_model3.fit(X_treino,y_treino)"
      ],
      "execution_count": null,
      "outputs": []
    },
    {
      "cell_type": "markdown",
      "metadata": {
        "id": "QIPbIBcMsyMA"
      },
      "source": [
        "**Imprimindo os pesos**"
      ]
    },
    {
      "cell_type": "code",
      "metadata": {
        "id": "4tdFQumesyMA"
      },
      "source": [
        "lr_model3.coef_"
      ],
      "execution_count": null,
      "outputs": []
    },
    {
      "cell_type": "markdown",
      "metadata": {
        "id": "VwbN8D7esyMC"
      },
      "source": [
        "**Validando o modelo com o RMSE**\n",
        "\n",
        "Piora (muito pouco) o modelo."
      ]
    },
    {
      "cell_type": "code",
      "metadata": {
        "id": "yO9xOj0YsyMC"
      },
      "source": [
        "RMSE = mean_squared_error(y_teste, lr_model3.predict(X_teste))**0.5\n",
        "RMSE\n"
      ],
      "execution_count": null,
      "outputs": []
    },
    {
      "cell_type": "markdown",
      "metadata": {
        "id": "H2YndZQPsyMD"
      },
      "source": [
        "**Deve-se** testar de outros modos, ex.: alterando as colunas e os parâmetros."
      ]
    },
    {
      "cell_type": "markdown",
      "metadata": {
        "id": "TV4E7uYvtK4e"
      },
      "source": [
        "# Obrigado!\n",
        "\n",
        "Obrigado por ter disponibilizado um pouco do seu tempo e atenção aqui. Espero que, de alguma forma, tenha sido útil para seu crescimento. Se houver qualquer dúvida ou sugestão, não hesite em entrar em contato no [LinkedIn](https://www.linkedin.com/in/daniel-sousa-amador) e verificar meus outros projetos no [GitHub](https://github.com/amadords).\n",
        "\n",
        "[![LinkedIn](https://img.shields.io/badge/LinkedIn-DanielSousaAmador-purple.svg)](https://www.linkedin.com/in/daniel-sousa-amador)\n",
        "[![GitHub](https://img.shields.io/badge/GitHub-amadords-darkblue.svg)](https://github.com/amadords)\n",
        "[![Medium](https://img.shields.io/badge/Medium-DanielSousaAmador-darkorange.svg)](https://medium.com/@daniel.s.amador)\n",
        "\n",
        "\n",
        "\n",
        "<center><img width=\"90%\" src=\"https://raw.githubusercontent.com/danielamador12/Portfolio/master/github.png\"></center>"
      ]
    }
  ]
}